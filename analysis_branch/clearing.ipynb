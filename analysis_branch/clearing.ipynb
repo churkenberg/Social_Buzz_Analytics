{
  "nbformat": 4,
  "nbformat_minor": 0,
  "metadata": {
    "colab": {
      "provenance": []
    },
    "kernelspec": {
      "name": "python3",
      "display_name": "Python 3"
    },
    "language_info": {
      "name": "python"
    }
  },
  "cells": [
    {
      "cell_type": "code",
      "execution_count": 1,
      "metadata": {
        "id": "6fVGstSqkr4E"
      },
      "outputs": [],
      "source": [
        "import pandas as pd"
      ]
    },
    {
      "cell_type": "code",
      "source": [
        "Content = pd.read_csv('/raw_data/Content.csv')"
      ],
      "metadata": {
        "id": "wlvHnCh1k1pu"
      },
      "execution_count": 2,
      "outputs": []
    },
    {
      "cell_type": "code",
      "source": [
        "ReactionTypes = pd.read_csv('/raw_data/ReactionTypes.csv')"
      ],
      "metadata": {
        "id": "qog8z726lRkM"
      },
      "execution_count": 3,
      "outputs": []
    },
    {
      "cell_type": "code",
      "source": [
        "Reactions = pd.read_csv('/raw_data/Reactions.csv')"
      ],
      "metadata": {
        "id": "SmZ7BwqGli2z"
      },
      "execution_count": 4,
      "outputs": []
    },
    {
      "cell_type": "code",
      "source": [
        "#deleting lines (1)\n",
        "Reactions_1 = Reactions.dropna()\n",
        "ReactionTypes_1 = ReactionTypes.dropna()\n",
        "Content_1 = Content.dropna()"
      ],
      "metadata": {
        "id": "oirOj9j4mKET"
      },
      "execution_count": 5,
      "outputs": []
    },
    {
      "cell_type": "code",
      "source": [
        "#renaming columns (2)\n",
        "new_names_Content = {'Type': 'Content Type'}\n",
        "Content_2 = Content_1.rename(columns=new_names_Content)\n",
        "\n",
        "new_names_ReactionTypes = {'Type': 'Reaction Type'}\n",
        "ReactionTypes_2 = ReactionTypes_1.rename(columns=new_names_ReactionTypes)\n",
        "\n",
        "new_names_Reactions = {'Type': 'Reactions Type'}\n",
        "Reactions_2 = Reactions_1.rename(new_names_Reactions)"
      ],
      "metadata": {
        "id": "pMFsH_kttgEe"
      },
      "execution_count": 6,
      "outputs": []
    },
    {
      "cell_type": "code",
      "source": [
        "#deleting unnecessary columns (done)\n",
        "Content_done = Content_2.drop('User ID', axis=1).drop('URL', axis=1)\n",
        "ReactionTypes_done = ReactionTypes_2\n",
        "Reactions_done = Reactions_2.drop('User ID', axis=1)"
      ],
      "metadata": {
        "id": "5XCvn24Ln1SY"
      },
      "execution_count": 7,
      "outputs": []
    },
    {
      "cell_type": "code",
      "source": [
        "#conservation\n",
        "Content_done.to_excel('/processed_data/Content_done.xlsx')\n",
        "ReactionTypes_done.to_excel('/processed_data/ReactionTypes_done.xlsx')\n",
        "Reactions_done.to_excel('/processed_data/Reactions_done.xlsx')"
      ],
      "metadata": {
        "id": "TMnAy1ZNsilX"
      },
      "execution_count": 10,
      "outputs": []
    }
  ]
}